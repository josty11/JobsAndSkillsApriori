{
  "cells": [
    {
      "cell_type": "markdown",
      "metadata": {
        "id": "OS4gQqy5751z"
      },
      "source": [
        "**Project preparation**\n",
        "\n",
        "- Starting the Spark session\n",
        "- Installing the libraries\n",
        "- Downloading the dataset from kaggle\n",
        "- Eliminating irrelevant files from the environment"
      ]
    },
    {
      "cell_type": "code",
      "execution_count": 2,
      "metadata": {
        "colab": {
          "base_uri": "https://localhost:8080/"
        },
        "id": "nz3Hf7CNqwv-",
        "outputId": "1c1fb8a5-74f7-40ee-c3c3-a74c914f78be"
      },
      "outputs": [
        {
          "output_type": "stream",
          "name": "stdout",
          "text": [
            "Get:1 https://cloud.r-project.org/bin/linux/ubuntu jammy-cran40/ InRelease [3,626 B]\n",
            "Hit:2 https://developer.download.nvidia.com/compute/cuda/repos/ubuntu2204/x86_64  InRelease\n",
            "Hit:3 https://ppa.launchpadcontent.net/c2d4u.team/c2d4u4.0+/ubuntu jammy InRelease\n",
            "Hit:4 https://ppa.launchpadcontent.net/deadsnakes/ppa/ubuntu jammy InRelease\n",
            "Hit:5 https://ppa.launchpadcontent.net/graphics-drivers/ppa/ubuntu jammy InRelease\n",
            "Hit:6 https://ppa.launchpadcontent.net/ubuntugis/ppa/ubuntu jammy InRelease\n",
            "Get:7 http://security.ubuntu.com/ubuntu jammy-security InRelease [129 kB]\n",
            "Hit:8 http://archive.ubuntu.com/ubuntu jammy InRelease\n",
            "Get:9 http://archive.ubuntu.com/ubuntu jammy-updates InRelease [128 kB]\n",
            "Hit:10 http://archive.ubuntu.com/ubuntu jammy-backports InRelease\n",
            "Fetched 261 kB in 3s (76.8 kB/s)\n",
            "Reading package lists... Done\n"
          ]
        }
      ],
      "source": [
        "!apt-get update"
      ]
    },
    {
      "cell_type": "code",
      "execution_count": 3,
      "metadata": {
        "colab": {
          "base_uri": "https://localhost:8080/",
          "height": 216
        },
        "id": "j9tO2k3Gzwvl",
        "outputId": "02e31f68-ec65-4d68-deaa-de0861cb56b8"
      },
      "outputs": [
        {
          "output_type": "execute_result",
          "data": {
            "text/plain": [
              "<pyspark.sql.session.SparkSession at 0x78842fa13580>"
            ],
            "text/html": [
              "\n",
              "            <div>\n",
              "                <p><b>SparkSession - in-memory</b></p>\n",
              "                \n",
              "        <div>\n",
              "            <p><b>SparkContext</b></p>\n",
              "\n",
              "            <p><a href=\"http://99e396429ffb:4040\">Spark UI</a></p>\n",
              "\n",
              "            <dl>\n",
              "              <dt>Version</dt>\n",
              "                <dd><code>v3.1.1</code></dd>\n",
              "              <dt>Master</dt>\n",
              "                <dd><code>local[*]</code></dd>\n",
              "              <dt>AppName</dt>\n",
              "                <dd><code>pyspark-shell</code></dd>\n",
              "            </dl>\n",
              "        </div>\n",
              "        \n",
              "            </div>\n",
              "        "
            ]
          },
          "metadata": {},
          "execution_count": 3
        }
      ],
      "source": [
        "!apt-get install openjdk-8-jdk-headless -qq > /dev/null\n",
        "!wget -q http://archive.apache.org/dist/spark/spark-3.1.1/spark-3.1.1-bin-hadoop3.2.tgz\n",
        "!tar xf spark-3.1.1-bin-hadoop3.2.tgz\n",
        "!pip install -q findspark\n",
        "\n",
        "import os\n",
        "os.environ[\"JAVA_HOME\"] = \"/usr/lib/jvm/java-8-openjdk-amd64\"\n",
        "os.environ[\"SPARK_HOME\"] = \"/content/spark-3.1.1-bin-hadoop3.2\"\n",
        "\n",
        "import findspark\n",
        "findspark.init()\n",
        "from pyspark.sql import SparkSession\n",
        "spark = SparkSession.builder.master(\"local[*]\").getOrCreate()\n",
        "spark.conf.set(\"spark.sql.repl.eagerEval.enabled\", True)\n",
        "spark"
      ]
    },
    {
      "cell_type": "code",
      "execution_count": 3,
      "metadata": {
        "id": "tR2y0NY3Fzxu"
      },
      "outputs": [],
      "source": [
        "os.environ['KAGGLE_USERNAME'] = \"xxxxxxxx\"\n",
        "os.environ['KAGGLE_KEY'] = \"xxxxxxxx\""
      ]
    },
    {
      "cell_type": "code",
      "execution_count": 4,
      "metadata": {
        "colab": {
          "base_uri": "https://localhost:8080/"
        },
        "id": "G-YqT2rw_mLQ",
        "outputId": "6bf7f2da-de8a-4833-afd0-29f14af5f25a"
      },
      "outputs": [
        {
          "output_type": "stream",
          "name": "stdout",
          "text": [
            "Dataset URL: https://www.kaggle.com/datasets/asaniczka/1-3m-linkedin-jobs-and-skills-2024\n",
            "License(s): ODC Attribution License (ODC-By)\n",
            "Downloading 1-3m-linkedin-jobs-and-skills-2024.zip to /content\n",
            " 99% 1.86G/1.88G [00:24<00:00, 112MB/s] \n",
            "100% 1.88G/1.88G [00:24<00:00, 83.2MB/s]\n"
          ]
        }
      ],
      "source": [
        "!kaggle datasets download -d asaniczka/1-3m-linkedin-jobs-and-skills-2024"
      ]
    },
    {
      "cell_type": "code",
      "execution_count": 5,
      "metadata": {
        "colab": {
          "base_uri": "https://localhost:8080/"
        },
        "id": "-b6sTwCT_rTV",
        "outputId": "c18a120c-e8f6-485e-da97-c8cfa56e6518"
      },
      "outputs": [
        {
          "output_type": "stream",
          "name": "stdout",
          "text": [
            "Archive:  1-3m-linkedin-jobs-and-skills-2024.zip\n",
            "  inflating: job_skills.csv          \n",
            "  inflating: job_summary.csv         \n",
            "  inflating: linkedin_job_postings.csv  \n"
          ]
        }
      ],
      "source": [
        "!unzip 1-3m-linkedin-jobs-and-skills-2024.zip"
      ]
    },
    {
      "cell_type": "code",
      "execution_count": 6,
      "metadata": {
        "colab": {
          "base_uri": "https://localhost:8080/"
        },
        "id": "PD4N-7qA_uc6",
        "outputId": "2ea4bfe6-4e26-48d4-cecf-529854a63c5a"
      },
      "outputs": [
        {
          "output_type": "stream",
          "name": "stdout",
          "text": [
            "job_summary.csv has been removed.\n",
            "linkedin_job_postings.csv has been removed.\n",
            "1-3m-linkedin-jobs-and-skills-2024.zip has been removed.\n",
            "['.config', 'job_skills.csv', 'spark-3.1.1-bin-hadoop3.2', 'spark-3.1.1-bin-hadoop3.2.tgz', 'sample_data']\n"
          ]
        }
      ],
      "source": [
        "unused_files = ['job_summary.csv', 'linkedin_job_postings.csv', '1-3m-linkedin-jobs-and-skills-2024.zip']\n",
        "for file in unused_files:\n",
        "    if os.path.exists(file):\n",
        "        os.remove(file)\n",
        "        print(f\"{file} has been removed.\")\n",
        "    else:\n",
        "        print(f\"{file} does not exist.\")\n",
        "\n",
        "print(os.listdir('.'))"
      ]
    },
    {
      "cell_type": "markdown",
      "metadata": {
        "id": "QNoKy1RA7rtG"
      },
      "source": [
        "**Data Preprocessing**\n",
        "- Installing the libraries used for data preprocessing and visualization\n",
        "- Load the dataframe and visualize the main info\n",
        "- Prepare the data for further processing"
      ]
    },
    {
      "cell_type": "code",
      "execution_count": 4,
      "metadata": {
        "id": "NZj07iT08SbH"
      },
      "outputs": [],
      "source": [
        "import pandas as pd\n",
        "import numpy as np\n",
        "from pyspark.sql.functions import col, lower, split, explode, collect_list, trim, udf\n",
        "from pyspark.sql.types import StringType\n",
        "import pyspark.sql.functions as F\n",
        "import matplotlib.pyplot as plt"
      ]
    },
    {
      "cell_type": "code",
      "execution_count": 5,
      "metadata": {
        "id": "oGaGYBz2Ywic"
      },
      "outputs": [],
      "source": [
        "from pyspark.sql.functions import regexp_replace\n",
        "from pyspark.sql.types import ArrayType, StringType\n",
        "from pyspark.sql.functions import collect_list"
      ]
    },
    {
      "cell_type": "code",
      "execution_count": 6,
      "metadata": {
        "id": "D1ICVJ0LYwAN"
      },
      "outputs": [],
      "source": [
        "job_skills_df = spark.read.options(header=True).csv('job_skills.csv')\n",
        "job_skills_df = job_skills_df.dropna(subset=[\"job_skills\"])"
      ]
    },
    {
      "cell_type": "code",
      "execution_count": 10,
      "metadata": {
        "colab": {
          "base_uri": "https://localhost:8080/"
        },
        "id": "aec1e-yoWhf4",
        "outputId": "ba2cc9cc-d98d-41a8-c4ad-038476c16614"
      },
      "outputs": [
        {
          "output_type": "stream",
          "name": "stdout",
          "text": [
            "+--------------------+------+\n",
            "|               skill| count|\n",
            "+--------------------+------+\n",
            "|       Communication|368202|\n",
            "|            Teamwork|226205|\n",
            "|          Leadership|184292|\n",
            "|    Customer service|166158|\n",
            "|Communication skills|116169|\n",
            "|    Customer Service|110400|\n",
            "|     Problem Solving|102020|\n",
            "|               Sales| 92718|\n",
            "|      Problemsolving| 92489|\n",
            "|             Nursing| 87419|\n",
            "|       Collaboration| 86774|\n",
            "|            Training| 83178|\n",
            "|  Project Management| 81080|\n",
            "|Communication Skills| 78700|\n",
            "| Attention to detail| 75448|\n",
            "|Microsoft Office ...| 73351|\n",
            "|     Time management| 72460|\n",
            "|     Time Management| 69752|\n",
            "|          Scheduling| 64081|\n",
            "|    Microsoft Office| 60260|\n",
            "+--------------------+------+\n",
            "only showing top 20 rows\n",
            "\n"
          ]
        },
        {
          "output_type": "execute_result",
          "data": {
            "text/plain": [
              "3298454"
            ]
          },
          "metadata": {},
          "execution_count": 10
        }
      ],
      "source": [
        "df_no_prep = job_skills_df.withColumn(\"job_skills\", split(col(\"job_skills\"), \",\\s*\"))\n",
        "skills_no_prep = df_no_prep.withColumn(\"skill\", explode(col(\"job_skills\")))\n",
        "skills_count_no_prep = skills_no_prep.groupBy(\"skill\").count().orderBy(\"count\", ascending=False)\n",
        "skills_count_no_prep.show(20)\n",
        "skills_count_no_prep.count()"
      ]
    },
    {
      "cell_type": "code",
      "execution_count": 11,
      "metadata": {
        "colab": {
          "base_uri": "https://localhost:8080/"
        },
        "id": "pM18xBHqWrbg",
        "outputId": "14333980-2c30-4a1e-a230-228a4990ec58"
      },
      "outputs": [
        {
          "output_type": "stream",
          "name": "stdout",
          "text": [
            "+--------------------+------+\n",
            "|               skill| count|\n",
            "+--------------------+------+\n",
            "|       communication|370052|\n",
            "|    customer service|278033|\n",
            "|            teamwork|227548|\n",
            "|communication skills|195837|\n",
            "|          leadership|185138|\n",
            "|     problem solving|148992|\n",
            "|     time management|142873|\n",
            "| attention to detail|133929|\n",
            "|      problemsolving|129299|\n",
            "|  project management|121525|\n",
            "|interpersonal skills|100223|\n",
            "|        patient care| 99912|\n",
            "|               sales| 92983|\n",
            "|             nursing| 87949|\n",
            "|       collaboration| 87086|\n",
            "|            training| 83639|\n",
            "|       data analysis| 81949|\n",
            "|microsoft office ...| 75508|\n",
            "|organizational sk...| 75257|\n",
            "|inventory management| 71902|\n",
            "+--------------------+------+\n",
            "only showing top 20 rows\n",
            "\n"
          ]
        },
        {
          "output_type": "execute_result",
          "data": {
            "text/plain": [
              "2770596"
            ]
          },
          "metadata": {},
          "execution_count": 11
        }
      ],
      "source": [
        "df_lowercase = job_skills_df.withColumn(\"job_skills\", split(lower(col(\"job_skills\")), \",\\s*\"))\n",
        "skills_lowercase = df_lowercase.withColumn(\"skill\", explode(col(\"job_skills\")))\n",
        "skills_count_lowercase = skills_lowercase.groupBy(\"skill\").count().orderBy(\"count\", ascending=False)\n",
        "skills_count_lowercase.show(20)\n",
        "skills_count_lowercase.count()"
      ]
    },
    {
      "cell_type": "code",
      "execution_count": 12,
      "metadata": {
        "id": "B3DHUbxLW6gN",
        "colab": {
          "base_uri": "https://localhost:8080/"
        },
        "outputId": "efeeb86d-2c1d-4934-f01b-7ab6d50fabe5"
      },
      "outputs": [
        {
          "output_type": "stream",
          "name": "stdout",
          "text": [
            "+--------------------+------+\n",
            "|               skill| count|\n",
            "+--------------------+------+\n",
            "|       communication|370052|\n",
            "|      problemsolving|278295|\n",
            "|     customerservice|278069|\n",
            "|            teamwork|245192|\n",
            "| communicationskills|195844|\n",
            "|          leadership|185139|\n",
            "|      timemanagement|143255|\n",
            "|   attentiontodetail|133971|\n",
            "|   projectmanagement|121540|\n",
            "| interpersonalskills|100229|\n",
            "|         patientcare| 99926|\n",
            "|               sales| 92983|\n",
            "|             nursing| 87949|\n",
            "|       collaboration| 87086|\n",
            "|            training| 83639|\n",
            "|        dataanalysis| 81958|\n",
            "|microsoftofficesuite| 75544|\n",
            "|organizationalskills| 75261|\n",
            "| inventorymanagement| 71904|\n",
            "|   highschooldiploma| 67357|\n",
            "+--------------------+------+\n",
            "only showing top 20 rows\n",
            "\n"
          ]
        },
        {
          "output_type": "execute_result",
          "data": {
            "text/plain": [
              "2724867"
            ]
          },
          "metadata": {},
          "execution_count": 12
        }
      ],
      "source": [
        "remove_whitespace_udf = udf(lambda skills: [s.replace(\" \", \"\") for s in skills], ArrayType(StringType()))\n",
        "df_no_whitespace = df_lowercase.withColumn(\"job_skills_no_whitespace\", remove_whitespace_udf(col(\"job_skills\")))\n",
        "skills_no_whitespace = df_no_whitespace.withColumn(\"skill\", explode(col(\"job_skills_no_whitespace\")))\n",
        "skills_count_no_whitespace = skills_no_whitespace.groupBy(\"skill\").count().orderBy(\"count\", ascending=False)\n",
        "skills_count_no_whitespace.show(20)\n",
        "skills_count_no_whitespace.count()"
      ]
    },
    {
      "cell_type": "code",
      "execution_count": 7,
      "metadata": {
        "id": "ehS3xociu1Q4"
      },
      "outputs": [],
      "source": [
        "def preprocess_column(c):\n",
        "    return lower(regexp_replace(col(c), \"\\s+\", \"\"))\n",
        "\n",
        "for column in job_skills_df.columns:\n",
        "    if isinstance(job_skills_df.schema[column].dataType, StringType):\n",
        "        job_skills_df = job_skills_df.withColumn(column, preprocess_column(column))\n",
        "\n",
        "df_lowercase = job_skills_df.withColumn(\"job_skills\", lower(col(\"job_skills\")))\n",
        "\n",
        "df_processed = df_lowercase.withColumn(\"job_skills\", split(col(\"job_skills\"), \",\\s*\"))\n",
        "\n",
        "baskets = df_processed.select(\"job_skills\").rdd.map(lambda row: row[0])"
      ]
    },
    {
      "cell_type": "code",
      "execution_count": 8,
      "metadata": {
        "colab": {
          "base_uri": "https://localhost:8080/"
        },
        "id": "yoQLd_CSu1Dx",
        "outputId": "8afa9c29-d71d-4d7c-853c-8f0c386bcb68"
      },
      "outputs": [
        {
          "output_type": "execute_result",
          "data": {
            "text/plain": [
              "['buildingcustodialservices',\n",
              " 'cleaning',\n",
              " 'janitorialservices',\n",
              " 'materialshandling',\n",
              " 'housekeeping',\n",
              " 'sanitation',\n",
              " 'wastemanagement',\n",
              " 'floormaintenance',\n",
              " 'equipmentmaintenance',\n",
              " 'safetyprotocols',\n",
              " 'communicationskills',\n",
              " 'attentiontodetail',\n",
              " 'physicalstrength',\n",
              " 'experienceinhousekeeping']"
            ]
          },
          "metadata": {},
          "execution_count": 8
        }
      ],
      "source": [
        "baskets.first()"
      ]
    },
    {
      "cell_type": "code",
      "execution_count": 9,
      "metadata": {
        "id": "uR9SsHYKvWU5"
      },
      "outputs": [],
      "source": [
        "count = baskets.count()"
      ]
    },
    {
      "cell_type": "code",
      "source": [
        "print(count)"
      ],
      "metadata": {
        "colab": {
          "base_uri": "https://localhost:8080/"
        },
        "id": "nBlwG7wH_1-V",
        "outputId": "56ef3785-12ec-41b4-c412-6bf75d73c4ff"
      },
      "execution_count": 43,
      "outputs": [
        {
          "output_type": "stream",
          "name": "stdout",
          "text": [
            "1294374\n"
          ]
        }
      ]
    },
    {
      "cell_type": "code",
      "execution_count": 46,
      "metadata": {
        "id": "TITfezkP0ghi"
      },
      "outputs": [],
      "source": [
        "support_threshold_percentage = 0.01\n",
        "min_support = int(support_threshold_percentage * count)"
      ]
    },
    {
      "cell_type": "code",
      "source": [
        "print(min_support)"
      ],
      "metadata": {
        "colab": {
          "base_uri": "https://localhost:8080/"
        },
        "id": "KbEPsT6aAAep",
        "outputId": "63f4ff0e-6354-4297-d33f-16daf9689fb2"
      },
      "execution_count": 47,
      "outputs": [
        {
          "output_type": "stream",
          "name": "stdout",
          "text": [
            "12943\n"
          ]
        }
      ]
    },
    {
      "cell_type": "code",
      "execution_count": 11,
      "metadata": {
        "colab": {
          "base_uri": "https://localhost:8080/",
          "height": 35
        },
        "id": "B8SDFkY3eYih",
        "outputId": "e8360a12-6f0b-4a1b-d652-d05688c69e2b"
      },
      "outputs": [
        {
          "output_type": "execute_result",
          "data": {
            "text/plain": [
              "'buildingcustodialservices'"
            ],
            "application/vnd.google.colaboratory.intrinsic+json": {
              "type": "string"
            }
          },
          "metadata": {},
          "execution_count": 11
        }
      ],
      "source": [
        "hash = baskets.flatMap(lambda line: line)\n",
        "hash.first()"
      ]
    },
    {
      "cell_type": "code",
      "execution_count": 12,
      "metadata": {
        "colab": {
          "base_uri": "https://localhost:8080/"
        },
        "id": "WM2vmUT7e-UD",
        "outputId": "382770cc-ae67-4ed6-ff44-3273e94f9f5a"
      },
      "outputs": [
        {
          "output_type": "execute_result",
          "data": {
            "text/plain": [
              "2724866"
            ]
          },
          "metadata": {},
          "execution_count": 12
        }
      ],
      "source": [
        "hash = hash.distinct()\n",
        "skills = hash.count()\n",
        "skills"
      ]
    },
    {
      "cell_type": "code",
      "execution_count": 13,
      "metadata": {
        "colab": {
          "base_uri": "https://localhost:8080/"
        },
        "id": "V2AU3WQieglh",
        "outputId": "60043258-494e-46ec-d9f3-f893207ce705"
      },
      "outputs": [
        {
          "output_type": "execute_result",
          "data": {
            "text/plain": [
              "[('professionalliabilityinsurance', 0),\n",
              " ('estimating', 1),\n",
              " ('planning', 2),\n",
              " ('workpackaging', 3),\n",
              " ('industryguides', 4)]"
            ]
          },
          "metadata": {},
          "execution_count": 13
        }
      ],
      "source": [
        "hash = hash.zipWithIndex()\n",
        "hash.take(5)"
      ]
    },
    {
      "cell_type": "code",
      "execution_count": 14,
      "metadata": {
        "id": "pRR7eVfJf65r"
      },
      "outputs": [],
      "source": [
        "hash_index = hash.collectAsMap()"
      ]
    },
    {
      "cell_type": "code",
      "execution_count": 15,
      "metadata": {
        "colab": {
          "base_uri": "https://localhost:8080/"
        },
        "id": "7x7demhjqweL",
        "outputId": "11e1c759-b47d-49be-8a20-5516db0c3abf"
      },
      "outputs": [
        {
          "output_type": "stream",
          "name": "stdout",
          "text": [
            "professionalliabilityinsurance: 0\n",
            "estimating: 1\n",
            "planning: 2\n",
            "workpackaging: 3\n",
            "industryguides: 4\n"
          ]
        }
      ],
      "source": [
        "first = list(hash_index.items())[:5]\n",
        "for key, value in first:\n",
        "    print(f\"{key}: {value}\")"
      ]
    },
    {
      "cell_type": "code",
      "execution_count": 16,
      "metadata": {
        "id": "OtaBG69vf_g_"
      },
      "outputs": [],
      "source": [
        "def hashing(basket):\n",
        "    return {hash_index[skill] for skill in basket}\n",
        "\n",
        "baskets = baskets.map(hashing)"
      ]
    },
    {
      "cell_type": "code",
      "execution_count": 17,
      "metadata": {
        "colab": {
          "base_uri": "https://localhost:8080/"
        },
        "id": "nliX2towth0b",
        "outputId": "43b9f7fc-1fe5-4ba4-ce6b-b99a0822241f"
      },
      "outputs": [
        {
          "output_type": "execute_result",
          "data": {
            "text/plain": [
              "{454820,\n",
              " 454821,\n",
              " 909292,\n",
              " 909293,\n",
              " 909294,\n",
              " 909295,\n",
              " 909296,\n",
              " 909297,\n",
              " 1363219,\n",
              " 1363220,\n",
              " 1817358,\n",
              " 1817359,\n",
              " 1817360,\n",
              " 2270567}"
            ]
          },
          "metadata": {},
          "execution_count": 17
        }
      ],
      "source": [
        "baskets.first()"
      ]
    },
    {
      "cell_type": "code",
      "execution_count": 18,
      "metadata": {
        "id": "0sepBS_rQn-W"
      },
      "outputs": [],
      "source": [
        "from itertools import combinations"
      ]
    },
    {
      "cell_type": "code",
      "source": [
        "def count_skills(baskets, min_support):\n",
        "  skill_count = baskets.flatMap(lambda basket: [(skill, 1) for skill in basket])\n",
        "  aggregated_count = skill_count.reduceByKey(lambda count1, count2: count1 + count2)\n",
        "  frequent_skills = aggregated_count.filter(lambda skill_count: skill_count[1] > min_support)\n",
        "  return frequent_skills"
      ],
      "metadata": {
        "id": "cwQwL-Fih9k_"
      },
      "execution_count": 19,
      "outputs": []
    },
    {
      "cell_type": "code",
      "execution_count": 49,
      "metadata": {
        "id": "m9eBYlrFvWOS"
      },
      "outputs": [],
      "source": [
        "#Print the values of the most frequent itemset based on the hashtable\n",
        "#Return the count of the frequent itemsets\n",
        "def frequent_values(set, table, is_single):\n",
        "    count = set.count()\n",
        "    print(f\"Count: {count}\")\n",
        "\n",
        "    most_frequent_hash = set.max(lambda x: x[1])\n",
        "    if is_single:\n",
        "      most_frequent_value = (list(table.keys())[list(table.values()).index(most_frequent_hash[0])])\n",
        "      print(\"Most frequent: \", most_frequent_value)\n",
        "\n",
        "    else:\n",
        "      itemset = []\n",
        "      for skill in most_frequent_hash[0]:\n",
        "        itemset.append(list(table.keys())[list(table.values()).index(skill)])\n",
        "      print(\"Most frequent:\", itemset)\n",
        "    return count\n",
        "\n",
        "def apriori(baskets, min_support, hash_table):\n",
        "    print(\"Singletons: \")\n",
        "    frequent_singletons = count_skills(baskets, min_support)\n",
        "    count = frequent_singletons.count()\n",
        "\n",
        "\n",
        "\n",
        "    if count > 0:\n",
        "      print(\"Counted singletons:\")\n",
        "      print(count)\n",
        "      most_frequent_hash = frequent_singletons.max(lambda x: x[1])\n",
        "      most_frequent_value = (list(hash_table.keys())[list(hash_table.values()).index(most_frequent_hash[0])])\n",
        "      print(\"Most frequent: \", most_frequent_value)\n",
        "\n",
        "      frequent_set = set(frequent_singletons.map(lambda x: (x[0], )).collect())\n",
        "      k = 2\n",
        "\n",
        "      while True:\n",
        "          print(f\"Itemsets of size {k}\")\n",
        "\n",
        "          def generate_candidates(basket):\n",
        "            basket = sorted(basket)\n",
        "            return [tuple(sorted(element)) for element in combinations(basket, k) if all(item in frequent_set for item in combinations(element, k - 1))]\n",
        "\n",
        "          itemsets = baskets.flatMap(lambda basket: [(element, 1) for element in generate_candidates(basket)]) \\\n",
        "                                                          .reduceByKey(lambda x, y: x + y) \\\n",
        "                                                          .filter(lambda x: x[1] > min_support)\n",
        "\n",
        "          count = itemsets.count()\n",
        "\n",
        "          if count > 0:\n",
        "            print(f\"Counted itemsets of size {k}:\")\n",
        "            print(count)\n",
        "            most_frequent_hash = itemsets.max(lambda x: x[1])\n",
        "            most_frequent_itemset = [list(hash_table.keys())[list(hash_table.values()).index(skill)] for skill in most_frequent_hash[0]]\n",
        "            print(\"Most frequent: \", most_frequent_itemset)\n",
        "\n",
        "            print(\"Continue counting\")\n",
        "            frequent_set = set(itemsets.map(lambda x: x[0]).collect())\n",
        "            k += 1\n",
        "          else:\n",
        "            print(\"No more itemsets\")\n",
        "            break\n",
        "    else:\n",
        "      print(\"No singletons found\")"
      ]
    },
    {
      "cell_type": "code",
      "execution_count": 21,
      "metadata": {
        "id": "b47-TdlE16JC"
      },
      "outputs": [],
      "source": [
        "sample_rdd = baskets.sample(False, 0.0001, seed=42)"
      ]
    },
    {
      "cell_type": "code",
      "execution_count": 22,
      "metadata": {
        "id": "HAsYMQ_02TiN"
      },
      "outputs": [],
      "source": [
        "sample_count = sample_rdd.count()"
      ]
    },
    {
      "cell_type": "code",
      "execution_count": 23,
      "metadata": {
        "id": "uyOS52jbIIR4",
        "colab": {
          "base_uri": "https://localhost:8080/"
        },
        "outputId": "de48c1f0-3511-4bd3-9223-724bf80dd313"
      },
      "outputs": [
        {
          "output_type": "stream",
          "name": "stdout",
          "text": [
            "127\n"
          ]
        }
      ],
      "source": [
        "print(sample_count)"
      ]
    },
    {
      "cell_type": "code",
      "execution_count": 40,
      "metadata": {
        "colab": {
          "base_uri": "https://localhost:8080/"
        },
        "id": "gwUyD6lox21M",
        "outputId": "83b69331-1b1e-4274-9243-89de2ecda1bc"
      },
      "outputs": [
        {
          "output_type": "stream",
          "name": "stdout",
          "text": [
            "Singletons: \n",
            "Counted singletons:\n",
            "26\n",
            "Most frequent:  communication\n",
            "Itemsets of size 2\n",
            "Counted itemsets if size 2:\n",
            "20\n",
            "Most frequent:  ['customerservice', 'communication']\n",
            "Continue counting\n",
            "Itemsets of size 3\n",
            "Counted itemsets if size 3:\n",
            "8\n",
            "Most frequent:  ['teamwork', 'customerservice', 'communication']\n",
            "Continue counting\n",
            "Itemsets of size 4\n",
            "No more itemsets\n"
          ]
        }
      ],
      "source": [
        "apriori(sample_rdd, 5, hash_index)"
      ]
    },
    {
      "cell_type": "code",
      "execution_count": null,
      "metadata": {
        "id": "JkZMvDV4u05J",
        "colab": {
          "base_uri": "https://localhost:8080/"
        },
        "outputId": "6feed3de-35df-42b7-ccd2-06baf598f9ba"
      },
      "outputs": [
        {
          "output_type": "stream",
          "name": "stdout",
          "text": [
            "Singletons: \n",
            "Counted singletons:\n",
            "190\n",
            "Most frequent:  communication\n",
            "Itemsets of size 2\n",
            "Counted itemsets of size 2:\n",
            "266\n",
            "Most frequent:  ['problemsolving', 'communication']\n",
            "Continue counting\n",
            "Itemsets of size 3\n",
            "Counted itemsets of size 3:\n",
            "165\n",
            "Most frequent:  ['teamwork', 'problemsolving', 'communication']\n",
            "Continue counting\n",
            "Itemsets of size 4\n"
          ]
        }
      ],
      "source": [
        "apriori(baskets, min_support, hash_index)"
      ]
    }
  ],
  "metadata": {
    "colab": {
      "provenance": []
    },
    "kernelspec": {
      "display_name": "Python 3",
      "name": "python3"
    },
    "language_info": {
      "name": "python"
    }
  },
  "nbformat": 4,
  "nbformat_minor": 0
}